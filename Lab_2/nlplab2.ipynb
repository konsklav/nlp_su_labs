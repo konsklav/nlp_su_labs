{
 "cells": [
  {
   "cell_type": "markdown",
   "metadata": {
    "id": "b-iPZFoQiasf"
   },
   "source": [
    "## Lab 2: Text Classification\n",
    "\n",
    "Note: For this lab exercise, it is recommended that you use [Google colab](https://colab.research.google.com/) to avoid issues concerning the deep learning module dependencies on your local system.\n",
    "\n",
    "For questions contact:\n",
    "\n",
    "Yongchao Wu\n",
    "\n",
    "email ID: yongchao.wu@dsv.su.se"
   ]
  },
  {
   "cell_type": "markdown",
   "metadata": {
    "id": "ugaJVbFBraxp"
   },
   "source": [
    "## 1. Introduction\n",
    "\n",
    "\n",
    "In this lab exercise, we will perform classification of text into predefined classes using Machine Learning. In particular, we will be classifying the text from [BBC](http://mlg.ucd.ie/datasets/bbc.html) dataset consisting of 5 different classes."
   ]
  },
  {
   "cell_type": "code",
   "execution_count": 1,
   "metadata": {
    "id": "GU2tn5d_raxu"
   },
   "outputs": [],
   "source": [
    "import pandas as pd\n",
    "import os\n",
    "import numpy as np\n",
    "import gradio as gr\n",
    "\n",
    "## Suppress warnings\n",
    "\n",
    "import warnings\n",
    "warnings.filterwarnings(\"ignore\")"
   ]
  },
  {
   "cell_type": "markdown",
   "metadata": {
    "id": "zE14c8aIraxv"
   },
   "source": [
    "### 2. Import Dataset\n"
   ]
  },
  {
   "cell_type": "code",
   "execution_count": 2,
   "metadata": {
    "colab": {
     "base_uri": "https://localhost:8080/"
    },
    "id": "ZjVIjeHXraxw",
    "outputId": "2619f575-1437-4947-ba89-a01fb7e78b27"
   },
   "outputs": [],
   "source": [
    "# Note: The filepath has been specified considerning that the notebook is run using google colab.\n",
    "\n",
    "#!wget https://raw.githubusercontent.com/yonwu/nlp_lab2/main/bbc_text.csv\n",
    "\n"
   ]
  },
  {
   "cell_type": "code",
   "execution_count": 3,
   "metadata": {
    "colab": {
     "base_uri": "https://localhost:8080/",
     "height": 206
    },
    "id": "Kj9_-2NOnNUG",
    "outputId": "3ee164ab-6da7-4c72-b59c-aba61671542d"
   },
   "outputs": [
    {
     "data": {
      "text/html": [
       "<div>\n",
       "<style scoped>\n",
       "    .dataframe tbody tr th:only-of-type {\n",
       "        vertical-align: middle;\n",
       "    }\n",
       "\n",
       "    .dataframe tbody tr th {\n",
       "        vertical-align: top;\n",
       "    }\n",
       "\n",
       "    .dataframe thead th {\n",
       "        text-align: right;\n",
       "    }\n",
       "</style>\n",
       "<table border=\"1\" class=\"dataframe\">\n",
       "  <thead>\n",
       "    <tr style=\"text-align: right;\">\n",
       "      <th></th>\n",
       "      <th>category</th>\n",
       "      <th>text</th>\n",
       "    </tr>\n",
       "  </thead>\n",
       "  <tbody>\n",
       "    <tr>\n",
       "      <th>0</th>\n",
       "      <td>tech</td>\n",
       "      <td>tv future in the hands of viewers with home th...</td>\n",
       "    </tr>\n",
       "    <tr>\n",
       "      <th>1</th>\n",
       "      <td>business</td>\n",
       "      <td>worldcom boss  left books alone  former worldc...</td>\n",
       "    </tr>\n",
       "    <tr>\n",
       "      <th>2</th>\n",
       "      <td>sport</td>\n",
       "      <td>tigers wary of farrell  gamble  leicester say ...</td>\n",
       "    </tr>\n",
       "    <tr>\n",
       "      <th>3</th>\n",
       "      <td>sport</td>\n",
       "      <td>yeading face newcastle in fa cup premiership s...</td>\n",
       "    </tr>\n",
       "    <tr>\n",
       "      <th>4</th>\n",
       "      <td>entertainment</td>\n",
       "      <td>ocean s twelve raids box office ocean s twelve...</td>\n",
       "    </tr>\n",
       "  </tbody>\n",
       "</table>\n",
       "</div>"
      ],
      "text/plain": [
       "        category                                               text\n",
       "0           tech  tv future in the hands of viewers with home th...\n",
       "1       business  worldcom boss  left books alone  former worldc...\n",
       "2          sport  tigers wary of farrell  gamble  leicester say ...\n",
       "3          sport  yeading face newcastle in fa cup premiership s...\n",
       "4  entertainment  ocean s twelve raids box office ocean s twelve..."
      ]
     },
     "execution_count": 3,
     "metadata": {},
     "output_type": "execute_result"
    }
   ],
   "source": [
    "bbc = pd.read_csv('bbc_text.csv', delimiter = ',')\n",
    "bbc.head()"
   ]
  },
  {
   "cell_type": "code",
   "execution_count": 4,
   "metadata": {
    "colab": {
     "base_uri": "https://localhost:8080/",
     "height": 441
    },
    "id": "S3MoVw40Vlmx",
    "outputId": "ab11ae6c-bb1d-41ca-da41-95681e0e7f85"
   },
   "outputs": [
    {
     "name": "stdout",
     "output_type": "stream",
     "text": [
      "(100, 2)\n"
     ]
    },
    {
     "data": {
      "text/html": [
       "<div>\n",
       "<style scoped>\n",
       "    .dataframe tbody tr th:only-of-type {\n",
       "        vertical-align: middle;\n",
       "    }\n",
       "\n",
       "    .dataframe tbody tr th {\n",
       "        vertical-align: top;\n",
       "    }\n",
       "\n",
       "    .dataframe thead th {\n",
       "        text-align: right;\n",
       "    }\n",
       "</style>\n",
       "<table border=\"1\" class=\"dataframe\">\n",
       "  <thead>\n",
       "    <tr style=\"text-align: right;\">\n",
       "      <th></th>\n",
       "      <th>category</th>\n",
       "      <th>text</th>\n",
       "    </tr>\n",
       "  </thead>\n",
       "  <tbody>\n",
       "    <tr>\n",
       "      <th>1664</th>\n",
       "      <td>sport</td>\n",
       "      <td>blues slam blackburn over savage birmingham ha...</td>\n",
       "    </tr>\n",
       "    <tr>\n",
       "      <th>1347</th>\n",
       "      <td>politics</td>\n",
       "      <td>mps tout lords replacement plan a group of mps...</td>\n",
       "    </tr>\n",
       "    <tr>\n",
       "      <th>432</th>\n",
       "      <td>sport</td>\n",
       "      <td>england 17-18 france england suffered an eight...</td>\n",
       "    </tr>\n",
       "    <tr>\n",
       "      <th>1435</th>\n",
       "      <td>business</td>\n",
       "      <td>banker loses sexism claim a former executive a...</td>\n",
       "    </tr>\n",
       "    <tr>\n",
       "      <th>1374</th>\n",
       "      <td>tech</td>\n",
       "      <td>eu software patent law faces axe the european ...</td>\n",
       "    </tr>\n",
       "    <tr>\n",
       "      <th>...</th>\n",
       "      <td>...</td>\n",
       "      <td>...</td>\n",
       "    </tr>\n",
       "    <tr>\n",
       "      <th>1972</th>\n",
       "      <td>business</td>\n",
       "      <td>bat spit drug firm goes to market a german fir...</td>\n",
       "    </tr>\n",
       "    <tr>\n",
       "      <th>1723</th>\n",
       "      <td>tech</td>\n",
       "      <td>pc photo printers challenge pros home printed ...</td>\n",
       "    </tr>\n",
       "    <tr>\n",
       "      <th>2079</th>\n",
       "      <td>sport</td>\n",
       "      <td>holmes starts 2005 with gb events kelly holmes...</td>\n",
       "    </tr>\n",
       "    <tr>\n",
       "      <th>1768</th>\n",
       "      <td>sport</td>\n",
       "      <td>curbishley delight for johansson charlton mana...</td>\n",
       "    </tr>\n",
       "    <tr>\n",
       "      <th>2077</th>\n",
       "      <td>sport</td>\n",
       "      <td>holmes starts 2005 with gb events kelly holmes...</td>\n",
       "    </tr>\n",
       "  </tbody>\n",
       "</table>\n",
       "<p>100 rows × 2 columns</p>\n",
       "</div>"
      ],
      "text/plain": [
       "      category                                               text\n",
       "1664     sport  blues slam blackburn over savage birmingham ha...\n",
       "1347  politics  mps tout lords replacement plan a group of mps...\n",
       "432      sport  england 17-18 france england suffered an eight...\n",
       "1435  business  banker loses sexism claim a former executive a...\n",
       "1374      tech  eu software patent law faces axe the european ...\n",
       "...        ...                                                ...\n",
       "1972  business  bat spit drug firm goes to market a german fir...\n",
       "1723      tech  pc photo printers challenge pros home printed ...\n",
       "2079     sport  holmes starts 2005 with gb events kelly holmes...\n",
       "1768     sport  curbishley delight for johansson charlton mana...\n",
       "2077     sport  holmes starts 2005 with gb events kelly holmes...\n",
       "\n",
       "[100 rows x 2 columns]"
      ]
     },
     "execution_count": 4,
     "metadata": {},
     "output_type": "execute_result"
    }
   ],
   "source": [
    "## To do: Randomly Select 100 examples from bbc dataframe, save to a new dataframe bbc_100\n",
    "bbc_100 = bbc.sample(n=100, random_state=1)\n",
    "print(bbc_100.shape)\n",
    "bbc_100"
   ]
  },
  {
   "cell_type": "code",
   "execution_count": 5,
   "metadata": {
    "id": "JiHuhN9qWFsq"
   },
   "outputs": [],
   "source": [
    "from sklearn.model_selection import KFold\n",
    "## To do: created 5-fold with KFold (https://scikit-learn.org/stable/modules/generated/sklearn.model_selection.KFold.html)\n",
    "kf = KFold(n_splits=5, shuffle=True)"
   ]
  },
  {
   "cell_type": "markdown",
   "metadata": {
    "id": "3hfW8EslW2_U"
   },
   "source": [
    "## Visualizing K-Fold"
   ]
  },
  {
   "cell_type": "markdown",
   "metadata": {
    "id": "qDuiCNYvXU63"
   },
   "source": [
    "###Run the following code, if you have done the bbc samling and kf correctly, you will see the distribution of the Train/Test dataset in each fold."
   ]
  },
  {
   "cell_type": "code",
   "execution_count": 6,
   "metadata": {
    "colab": {
     "base_uri": "https://localhost:8080/",
     "height": 607
    },
    "id": "fZjg6FdHW1qP",
    "outputId": "b325e2f3-977d-4445-f859-f4b80f24620f"
   },
   "outputs": [
    {
     "data": {
      "image/png": "[encoded data removed]",
      "text/plain": [
       "<Figure size 1000x600 with 1 Axes>"
      ]
     },
     "metadata": {},
     "output_type": "display_data"
    }
   ],
   "source": [
    "import matplotlib.pyplot as plt\n",
    "\n",
    "plt.figure(figsize=(10, 6))\n",
    "\n",
    "for i, (train_index, test_index) in enumerate(kf.split(bbc_100)):\n",
    "    # Display train index distribution\n",
    "    plt.scatter(train_index, [i] * len(train_index), alpha=0.6, label=f'Train Fold {i+1}' if i == 0 else \"\", color='blue')\n",
    "\n",
    "    # Display test index distribution\n",
    "    plt.scatter(test_index, [i] * len(test_index), alpha=0.6, label=f'Test Fold {i+1}' if i == 0 else \"\", color='orange')\n",
    "\n",
    "\n",
    "plt.xlabel('Index')\n",
    "plt.ylabel('Fold')\n",
    "plt.title('Index Distribution Across K-Fold')\n",
    "plt.yticks(np.arange(5), [f'Fold {i+1}' for i in range(5)])\n",
    "\n",
    "# Adjust the legend\n",
    "legend = plt.legend(frameon=True, loc='upper left', bbox_to_anchor=(1, 1))\n",
    "frame = legend.get_frame()\n",
    "frame.set_color('white')\n",
    "frame.set_edgecolor('black')\n",
    "frame.set_alpha(1)  # Adjust transparency: 0 is transparent, 1 is opaque\n",
    "\n",
    "plt.tight_layout()\n",
    "plt.show()"
   ]
  },
  {
   "cell_type": "markdown",
   "metadata": {
    "id": "CaHQwcogYBYo"
   },
   "source": [
    "### Question: What is the benifit of K-fold cross validation? any disadvantages?"
   ]
  },
  {
   "cell_type": "markdown",
   "metadata": {
    "id": "9v2mXPkrf9V_"
   },
   "source": [
    "\n",
    "# - Advantages\n",
    "\n",
    "\n",
    "*   Each subset is given a chance to be in the test set\n",
    "*   Performance is averaged over the k iterations\n",
    "\n",
    "# - Disadvantages\n",
    "\n",
    "\n",
    "\n",
    "*   Training on less training examples will result on higher bias (depending on how representive are the remaining training examples in each fold)\n",
    "*   Not good results if k-fold is not stratified\n",
    "\n",
    "\n",
    "\n"
   ]
  },
  {
   "cell_type": "markdown",
   "metadata": {
    "id": "JUhRukvlraxx"
   },
   "source": [
    "### 3. Visualization\n",
    "\n",
    "Your task here is to get an understanding of distribution of different classes in the data by visualization and compare them.\n",
    "\n",
    "You are expected to generate two plots, one for each training and test dataset.\n",
    "\n",
    "You can refer to the [Bar plots tutorial](https://pythonguides.com/matplotlib-plot-bar-chart/) to know more."
   ]
  },
  {
   "cell_type": "code",
   "execution_count": 7,
   "metadata": {
    "colab": {
     "base_uri": "https://localhost:8080/",
     "height": 1000
    },
    "id": "S15Sb8iWraxx",
    "outputId": "bec16a64-4086-4f92-bd37-716098c2c24c"
   },
   "outputs": [
    {
     "data": {
      "image/png": "[encoded data removed]",
      "text/plain": [
       "<Figure size 700x2000 with 5 Axes>"
      ]
     },
     "metadata": {},
     "output_type": "display_data"
    }
   ],
   "source": [
    "import matplotlib.pyplot as plt\n",
    "\n",
    "# Solution: add the code below to plot the Distribution of classes in bbc_100 for each fold to separate staple diagrams for each fold.\n",
    "#bbc_100_cat = bbc_100[['category']].value_counts(sort=False).reset_index().rename(columns={0: \"count\"})\n",
    "bbc_100_cat = bbc_100.reset_index(drop=True)\n",
    "bbc_100_np = bbc_100_cat.to_numpy()\n",
    "#bbc_100_np[:, -1:].flatten()\n",
    "#X=bbc_100_np[:, -1:].flatten(), y=bbc_100_np[:, :1].flatten())\n",
    "\n",
    "folds = [next(kf.split(bbc_100_np)) for i in range(5)]\n",
    "\n",
    "fig, axs = plt.subplots(5, figsize=(7, 20))\n",
    "\n",
    "for i, ax in enumerate(axs.flatten()):\n",
    "  a = bbc_100_np[folds[i][0]][:,:1].flatten()\n",
    "\n",
    "  df1 = pd.DataFrame(a,columns=['category'])\n",
    "  df1 = df1.value_counts(sort=False).reset_index().rename(columns={0: \"count\"})\n",
    "\n",
    "  ax.bar(df1['category'], df1['count'])\n",
    "  ax.set_title(f'fold train {i+1}')\n",
    "\n",
    "plt.show()"
   ]
  },
  {
   "cell_type": "code",
   "execution_count": 8,
   "metadata": {
    "colab": {
     "base_uri": "https://localhost:8080/",
     "height": 1000
    },
    "id": "8Tli9r0Q7A3o",
    "outputId": "eb1acefa-d696-4006-ab77-d38b19fe267f"
   },
   "outputs": [
    {
     "data": {
      "image/png": "[encoded data removed]",
      "text/plain": [
       "<Figure size 700x2000 with 5 Axes>"
      ]
     },
     "metadata": {},
     "output_type": "display_data"
    }
   ],
   "source": [
    "fig, axs = plt.subplots(5, figsize=(7, 20))\n",
    "\n",
    "for i, ax in enumerate(axs.flatten()):\n",
    "  a = bbc_100_np[folds[i][1]][:,:1].flatten()\n",
    "\n",
    "  df1 = pd.DataFrame(a,columns=['category'])\n",
    "  df1 = df1.value_counts(sort=False).reset_index().rename(columns={0: \"count\"})\n",
    "\n",
    "  ax.bar(df1['category'], df1['count'])\n",
    "  ax.set_title(f'fold test {i+1}')\n",
    "\n",
    "plt.show()"
   ]
  },
  {
   "cell_type": "markdown",
   "metadata": {
    "id": "WJeBNjcKrax1"
   },
   "source": [
    "### 5. Classification using Naive Bayes\n",
    "\n",
    "For training and validation, we will use a [Multinomial Naive Bayes classifier](https://scikit-learn.org/stable/modules/generated/sklearn.naive_bayes.MultinomialNB.html). Here, you are expected to:\n",
    "\n",
    "1. Vectorize the text from the training set.\n",
    "2. Train the classifier\n",
    "3. Evaluate the classifier using the test set.\n",
    "\n",
    "Tip: You can use [sklearn's pipeline](https://scikit-learn.org/stable/modules/generated/sklearn.pipeline.Pipeline.html) functionality to perform steps 1 and 2.\n",
    "\n",
    "Tip: You can use [classification report](https://scikit-learn.org/stable/modules/generated/sklearn.metrics.classification_report.html) to print the results of evaluation.\n"
   ]
  },
  {
   "cell_type": "code",
   "execution_count": 9,
   "metadata": {
    "colab": {
     "base_uri": "https://localhost:8080/"
    },
    "id": "2PEXADlvrax2",
    "outputId": "dcf84651-159b-42b7-8c0f-4c0f3d9b29d8"
   },
   "outputs": [
    {
     "name": "stdout",
     "output_type": "stream",
     "text": [
      "(100, 5935)\n",
      "0.9099999999999999\n",
      "0.9099999999999999\n",
      "0.8876190476190476\n"
     ]
    }
   ],
   "source": [
    "from sklearn.pipeline import Pipeline\n",
    "from sklearn.feature_extraction.text import CountVectorizer\n",
    "from sklearn.naive_bayes import MultinomialNB\n",
    "from sklearn.metrics import classification_report\n",
    "import numpy as np\n",
    "from sklearn.model_selection import KFold\n",
    "from sklearn.metrics import accuracy_score\n",
    "from sklearn.metrics import f1_score\n",
    "from sklearn.model_selection import cross_validate\n",
    "\n",
    "\n",
    "# Train and evaluate a Multinomial Naive Bayes classifier\n",
    "# To do: Add the code below to build a pipeline for the classifier.\n",
    "# Evaluate your classifer on metrics of accuracy and f1_score(weighted).\n",
    "\n",
    "X = bbc_100_np[:,1:].flatten()\n",
    "vectorizer = CountVectorizer()\n",
    "X_vectorized = vectorizer.fit_transform(X)\n",
    "print(X_vectorized.shape)\n",
    "y = bbc_100_np[:,:1].flatten()\n",
    "mnb = MultinomialNB()\n",
    "d = cross_validate(mnb, X_vectorized, y, cv=5, scoring=['accuracy','f1_micro','f1_macro'])\n",
    "print(d['test_accuracy'].mean())\n",
    "print(d['test_f1_micro'].mean())\n",
    "print(d['test_f1_macro'].mean())"
   ]
  },
  {
   "cell_type": "markdown",
   "metadata": {
    "id": "SQR91FiQrax2"
   },
   "source": [
    "### 6. Baseline Classifier\n",
    "\n",
    "You can compare the performance of your Machine Learning model with a simple baseline classifier. One possibility could be to use a classifier that generates predictions by respecting the training set’s class distribution. You can consider using [Dummy classifier](https://scikit-learn.org/stable/modules/generated/sklearn.dummy.DummyClassifier.html) from scikit learn.\n",
    "\n"
   ]
  },
  {
   "cell_type": "code",
   "execution_count": 10,
   "metadata": {
    "colab": {
     "base_uri": "https://localhost:8080/"
    },
    "id": "GZunaVeFrax3",
    "outputId": "379455a3-aa4f-4e13-bf97-0295075e4bd4"
   },
   "outputs": [
    {
     "name": "stdout",
     "output_type": "stream",
     "text": [
      "0.27\n",
      "0.27\n",
      "0.23369119769119764\n"
     ]
    }
   ],
   "source": [
    "from sklearn.dummy import DummyClassifier\n",
    "\n",
    "# Evaluate the random baseline\n",
    "baseline = DummyClassifier(strategy=\"stratified\")\n",
    "\n",
    "# To do: Add the code below to train the baseline classifier and evaluate it.\n",
    "d = cross_validate(baseline, X_vectorized, y, cv=5, scoring=['accuracy','f1_micro','f1_macro'])\n",
    "print(d['test_accuracy'].mean())\n",
    "print(d['test_f1_micro'].mean())\n",
    "print(d['test_f1_macro'].mean())"
   ]
  },
  {
   "cell_type": "markdown",
   "metadata": {
    "id": "Hoa-P1QIrax4"
   },
   "source": [
    "Is the result from the baseline classifier justified?\n",
    "\n"
   ]
  },
  {
   "cell_type": "markdown",
   "metadata": {
    "id": "IwzvJ6qMrax4"
   },
   "source": [
    "### 6. Grid Search\n",
    "\n",
    "So far, you have trained the vectorizer and the classifer using their default parameters. However, in practical settings, one needs to optimize the parameters of the model to maximize the performance.\n",
    "\n",
    "Here, you are asked to find the optimal parameters for the pipelines that you have created above using a 5 fold cross validation. The choice of hyperparameters for optimization are:\n",
    "\n",
    "1. Bi-grams vs uni-grams vs tri-grams from [Vectorizer](https://scikit-learn.org/stable/modules/generated/sklearn.feature_extraction.text.CountVectorizer.html).\n",
    "2. Additive smoothing  for the Multinomial naive bayes classifier $\\alpha$ = {1, 0.1}\n",
    "3. Tokenized vs non-tokenized text (For tokenization, you can use the function 'preprocess' that is given below as a parameter for the vectorizer.)\n",
    "\n",
    "\n",
    "You can refer to the [Grid search](https://scikit-learn.org/stable/modules/generated/sklearn.model_selection.GridSearchCV.html) documentation from the scikit-learn library.\n",
    "\n",
    "Finally, print the parameters from the grid search that give the best performance."
   ]
  },
  {
   "cell_type": "code",
   "execution_count": 11,
   "metadata": {
    "id": "fdhGS2HMU3Ac"
   },
   "outputs": [],
   "source": [
    "\n",
    "# Function preprocess can be used as a tokenizer.\n",
    "\n",
    "import spacy\n",
    "nlp = spacy.load('en_core_web_sm', disable=[\"tagger\", \"parser\", \"ner\"])\n",
    "\n",
    "def preprocess(text):\n",
    "    doc = nlp(text)\n",
    "\n",
    "    final_key=[]\n",
    "    for token in doc:\n",
    "        if token.is_stop==False and token.lemma_.isalpha():\n",
    "\n",
    "            final_key.append(token.lemma_)\n",
    "\n",
    "    return final_key"
   ]
  },
  {
   "cell_type": "code",
   "execution_count": 12,
   "metadata": {
    "colab": {
     "base_uri": "https://localhost:8080/",
     "height": 1000
    },
    "id": "nOz9OcIlrax4",
    "outputId": "aa0656cd-eb97-4399-83c6-9b55233ead4e"
   },
   "outputs": [
    {
     "name": "stdout",
     "output_type": "stream",
     "text": [
      "Fitting 5 folds for each of 12 candidates, totalling 60 fits\n",
      "Fitting 5 folds for each of 6 candidates, totalling 30 fits\n"
     ]
    },
    {
     "data": {
      "text/html": [
       "<style>#sk-container-id-1 {color: black;background-color: white;}#sk-container-id-1 pre{padding: 0;}#sk-container-id-1 div.sk-toggleable {background-color: white;}#sk-container-id-1 label.sk-toggleable__label {cursor: pointer;display: block;width: 100%;margin-bottom: 0;padding: 0.3em;box-sizing: border-box;text-align: center;}#sk-container-id-1 label.sk-toggleable__label-arrow:before {content: \"▸\";float: left;margin-right: 0.25em;color: #696969;}#sk-container-id-1 label.sk-toggleable__label-arrow:hover:before {color: black;}#sk-container-id-1 div.sk-estimator:hover label.sk-toggleable__label-arrow:before {color: black;}#sk-container-id-1 div.sk-toggleable__content {max-height: 0;max-width: 0;overflow: hidden;text-align: left;background-color: #f0f8ff;}#sk-container-id-1 div.sk-toggleable__content pre {margin: 0.2em;color: black;border-radius: 0.25em;background-color: #f0f8ff;}#sk-container-id-1 input.sk-toggleable__control:checked~div.sk-toggleable__content {max-height: 200px;max-width: 100%;overflow: auto;}#sk-container-id-1 input.sk-toggleable__control:checked~label.sk-toggleable__label-arrow:before {content: \"▾\";}#sk-container-id-1 div.sk-estimator input.sk-toggleable__control:checked~label.sk-toggleable__label {background-color: #d4ebff;}#sk-container-id-1 div.sk-label input.sk-toggleable__control:checked~label.sk-toggleable__label {background-color: #d4ebff;}#sk-container-id-1 input.sk-hidden--visually {border: 0;clip: rect(1px 1px 1px 1px);clip: rect(1px, 1px, 1px, 1px);height: 1px;margin: -1px;overflow: hidden;padding: 0;position: absolute;width: 1px;}#sk-container-id-1 div.sk-estimator {font-family: monospace;background-color: #f0f8ff;border: 1px dotted black;border-radius: 0.25em;box-sizing: border-box;margin-bottom: 0.5em;}#sk-container-id-1 div.sk-estimator:hover {background-color: #d4ebff;}#sk-container-id-1 div.sk-parallel-item::after {content: \"\";width: 100%;border-bottom: 1px solid gray;flex-grow: 1;}#sk-container-id-1 div.sk-label:hover label.sk-toggleable__label {background-color: #d4ebff;}#sk-container-id-1 div.sk-serial::before {content: \"\";position: absolute;border-left: 1px solid gray;box-sizing: border-box;top: 0;bottom: 0;left: 50%;z-index: 0;}#sk-container-id-1 div.sk-serial {display: flex;flex-direction: column;align-items: center;background-color: white;padding-right: 0.2em;padding-left: 0.2em;position: relative;}#sk-container-id-1 div.sk-item {position: relative;z-index: 1;}#sk-container-id-1 div.sk-parallel {display: flex;align-items: stretch;justify-content: center;background-color: white;position: relative;}#sk-container-id-1 div.sk-item::before, #sk-container-id-1 div.sk-parallel-item::before {content: \"\";position: absolute;border-left: 1px solid gray;box-sizing: border-box;top: 0;bottom: 0;left: 50%;z-index: -1;}#sk-container-id-1 div.sk-parallel-item {display: flex;flex-direction: column;z-index: 1;position: relative;background-color: white;}#sk-container-id-1 div.sk-parallel-item:first-child::after {align-self: flex-end;width: 50%;}#sk-container-id-1 div.sk-parallel-item:last-child::after {align-self: flex-start;width: 50%;}#sk-container-id-1 div.sk-parallel-item:only-child::after {width: 0;}#sk-container-id-1 div.sk-dashed-wrapped {border: 1px dashed gray;margin: 0 0.4em 0.5em 0.4em;box-sizing: border-box;padding-bottom: 0.4em;background-color: white;}#sk-container-id-1 div.sk-label label {font-family: monospace;font-weight: bold;display: inline-block;line-height: 1.2em;}#sk-container-id-1 div.sk-label-container {text-align: center;}#sk-container-id-1 div.sk-container {/* jupyter's `normalize.less` sets `[hidden] { display: none; }` but bootstrap.min.css set `[hidden] { display: none !important; }` so we also need the `!important` here to be able to override the default hidden behavior on the sphinx rendered scikit-learn.org. See: https://github.com/scikit-learn/scikit-learn/issues/21755 */display: inline-block !important;position: relative;}#sk-container-id-1 div.sk-text-repr-fallback {display: none;}</style><div id=\"sk-container-id-1\" class=\"sk-top-container\"><div class=\"sk-text-repr-fallback\"><pre>GridSearchCV(cv=5,\n",
       "             estimator=Pipeline(steps=[(&#x27;vectorizer&#x27;, CountVectorizer()),\n",
       "                                       (&#x27;classifier&#x27;,\n",
       "                                        DummyClassifier(strategy=&#x27;stratified&#x27;))]),\n",
       "             param_grid={&#x27;vectorizer__ngram_range&#x27;: [(1, 1), (1, 2), (1, 3)],\n",
       "                         &#x27;vectorizer__tokenizer&#x27;: [&lt;function preprocess at 0x0000027161A7B1A0&gt;,\n",
       "                                                   None]},\n",
       "             refit=&#x27;accuracy&#x27;, scoring=[&#x27;accuracy&#x27;, &#x27;f1_micro&#x27;, &#x27;f1_macro&#x27;],\n",
       "             verbose=1)</pre><b>In a Jupyter environment, please rerun this cell to show the HTML representation or trust the notebook. <br />On GitHub, the HTML representation is unable to render, please try loading this page with nbviewer.org.</b></div><div class=\"sk-container\" hidden><div class=\"sk-item sk-dashed-wrapped\"><div class=\"sk-label-container\"><div class=\"sk-label sk-toggleable\"><input class=\"sk-toggleable__control sk-hidden--visually\" id=\"sk-estimator-id-1\" type=\"checkbox\" ><label for=\"sk-estimator-id-1\" class=\"sk-toggleable__label sk-toggleable__label-arrow\">GridSearchCV</label><div class=\"sk-toggleable__content\"><pre>GridSearchCV(cv=5,\n",
       "             estimator=Pipeline(steps=[(&#x27;vectorizer&#x27;, CountVectorizer()),\n",
       "                                       (&#x27;classifier&#x27;,\n",
       "                                        DummyClassifier(strategy=&#x27;stratified&#x27;))]),\n",
       "             param_grid={&#x27;vectorizer__ngram_range&#x27;: [(1, 1), (1, 2), (1, 3)],\n",
       "                         &#x27;vectorizer__tokenizer&#x27;: [&lt;function preprocess at 0x0000027161A7B1A0&gt;,\n",
       "                                                   None]},\n",
       "             refit=&#x27;accuracy&#x27;, scoring=[&#x27;accuracy&#x27;, &#x27;f1_micro&#x27;, &#x27;f1_macro&#x27;],\n",
       "             verbose=1)</pre></div></div></div><div class=\"sk-parallel\"><div class=\"sk-parallel-item\"><div class=\"sk-item\"><div class=\"sk-label-container\"><div class=\"sk-label sk-toggleable\"><input class=\"sk-toggleable__control sk-hidden--visually\" id=\"sk-estimator-id-2\" type=\"checkbox\" ><label for=\"sk-estimator-id-2\" class=\"sk-toggleable__label sk-toggleable__label-arrow\">estimator: Pipeline</label><div class=\"sk-toggleable__content\"><pre>Pipeline(steps=[(&#x27;vectorizer&#x27;, CountVectorizer()),\n",
       "                (&#x27;classifier&#x27;, DummyClassifier(strategy=&#x27;stratified&#x27;))])</pre></div></div></div><div class=\"sk-serial\"><div class=\"sk-item\"><div class=\"sk-serial\"><div class=\"sk-item\"><div class=\"sk-estimator sk-toggleable\"><input class=\"sk-toggleable__control sk-hidden--visually\" id=\"sk-estimator-id-3\" type=\"checkbox\" ><label for=\"sk-estimator-id-3\" class=\"sk-toggleable__label sk-toggleable__label-arrow\">CountVectorizer</label><div class=\"sk-toggleable__content\"><pre>CountVectorizer()</pre></div></div></div><div class=\"sk-item\"><div class=\"sk-estimator sk-toggleable\"><input class=\"sk-toggleable__control sk-hidden--visually\" id=\"sk-estimator-id-4\" type=\"checkbox\" ><label for=\"sk-estimator-id-4\" class=\"sk-toggleable__label sk-toggleable__label-arrow\">DummyClassifier</label><div class=\"sk-toggleable__content\"><pre>DummyClassifier(strategy=&#x27;stratified&#x27;)</pre></div></div></div></div></div></div></div></div></div></div></div></div>"
      ],
      "text/plain": [
       "GridSearchCV(cv=5,\n",
       "             estimator=Pipeline(steps=[('vectorizer', CountVectorizer()),\n",
       "                                       ('classifier',\n",
       "                                        DummyClassifier(strategy='stratified'))]),\n",
       "             param_grid={'vectorizer__ngram_range': [(1, 1), (1, 2), (1, 3)],\n",
       "                         'vectorizer__tokenizer': [<function preprocess at 0x0000027161A7B1A0>,\n",
       "                                                   None]},\n",
       "             refit='accuracy', scoring=['accuracy', 'f1_micro', 'f1_macro'],\n",
       "             verbose=1)"
      ]
     },
     "execution_count": 12,
     "metadata": {},
     "output_type": "execute_result"
    }
   ],
   "source": [
    "from sklearn.model_selection import GridSearchCV\n",
    "\n",
    "# To do: Replace the ??? in the code and implement the grid search\n",
    "# Note: Take a look at how you an specify the parameters for grid search from an example of n-grams. Similarly, you can specify the other remaining parameters.\n",
    "# Note: this run would take 20 - 30 mins\n",
    "\n",
    "# pipe MNB\n",
    "pipe1 = Pipeline([\n",
    "  ('vectorizer', CountVectorizer()),\n",
    "  ('classifier', MultinomialNB())\n",
    "])\n",
    "\n",
    "# pipe base\n",
    "pipe2 = Pipeline([\n",
    "  ('vectorizer', CountVectorizer()),\n",
    "  ('classifier', DummyClassifier(strategy=\"stratified\"))\n",
    "])\n",
    "\n",
    "params1 = {'vectorizer__ngram_range':[(1,1), (1,2), (1,3)],\n",
    "          'vectorizer__tokenizer':[preprocess,None],\n",
    "          'classifier__alpha':[0.1, 1]\n",
    "          }\n",
    "\n",
    "params2 = {'vectorizer__ngram_range':[(1,1), (1,2), (1,3)],\n",
    "          'vectorizer__tokenizer':[preprocess,None]\n",
    "          }\n",
    "\n",
    "gridCV1 = GridSearchCV(estimator = pipe1, param_grid = params1, cv = 5, verbose=1, scoring=['accuracy','f1_micro','f1_macro'], refit='accuracy')\n",
    "gridCV1.fit(X,y)\n",
    "\n",
    "gridCV2 = GridSearchCV(estimator = pipe2, param_grid = params2, cv = 5, verbose=1, scoring=['accuracy','f1_micro','f1_macro'], refit='accuracy')\n",
    "gridCV2.fit(X,y)"
   ]
  },
  {
   "cell_type": "code",
   "execution_count": 13,
   "metadata": {
    "colab": {
     "base_uri": "https://localhost:8080/"
    },
    "id": "eV7qdc2BU67_",
    "outputId": "134008fa-fa9e-4a00-edb8-430a7a83eedc"
   },
   "outputs": [
    {
     "name": "stdout",
     "output_type": "stream",
     "text": [
      "{'classifier__alpha': 0.1, 'vectorizer__ngram_range': (1, 2), 'vectorizer__tokenizer': <function preprocess at 0x0000027161A7B1A0>}\n",
      "{'vectorizer__ngram_range': (1, 1), 'vectorizer__tokenizer': <function preprocess at 0x0000027161A7B1A0>}\n"
     ]
    }
   ],
   "source": [
    "print(gridCV1.best_params_)\n",
    "print(gridCV2.best_params_)"
   ]
  },
  {
   "cell_type": "markdown",
   "metadata": {
    "id": "F3Cr3A83MGxv"
   },
   "source": [
    "## Use the best parameters to run the training(pipleline NB) again, see the difference!"
   ]
  },
  {
   "cell_type": "code",
   "execution_count": 14,
   "metadata": {
    "id": "ht8HBwq0MVEb"
   },
   "outputs": [
    {
     "name": "stdout",
     "output_type": "stream",
     "text": [
      "0.97\n",
      "0.97\n",
      "0.9587643467643467\n"
     ]
    }
   ],
   "source": [
    "## to do: Use the best parameters to run the training(pipleline NB) again.\n",
    "vectorizer = CountVectorizer(ngram_range=(1, 2), tokenizer=preprocess)\n",
    "X_vectorized = vectorizer.fit_transform(X)\n",
    "mnb = MultinomialNB()\n",
    "d = cross_validate(mnb, X_vectorized, y, cv=5, scoring=['accuracy','f1_micro','f1_macro'])\n",
    "print(d['test_accuracy'].mean())\n",
    "print(d['test_f1_micro'].mean())\n",
    "print(d['test_f1_macro'].mean())"
   ]
  },
  {
   "cell_type": "markdown",
   "metadata": {
    "id": "GISqsrKD8md0"
   },
   "source": [
    "## 7. Fine-tuning using BERT\n",
    "\n",
    "In this section, you will see how a pre-trained BERT model can be fine tuned for the task of text classification.\n",
    "\n",
    "Run the following cells to fine-tune the model."
   ]
  },
  {
   "cell_type": "markdown",
   "metadata": {
    "id": "kyNKl7Z6_Sj5"
   },
   "source": [
    "1. Comment on the results. Is there any improvement in performance when compared to MultinomialNB?\n",
    "\n",
    "2. Try changing the number of epochs to 3 and then 5 to see if there is any improvement in the performance."
   ]
  },
  {
   "cell_type": "code",
   "execution_count": 15,
   "metadata": {
    "id": "iLev7gYhF_D2"
   },
   "outputs": [],
   "source": [
    "\"\"\"\n",
    "! pip install transformers torch\n",
    "!pip uninstall tensorflow-probability --yes\n",
    "!pip install fastapi==0.104.1 typing_extensions==4.8.0 gradio==3.41.0\n",
    "\n",
    "! pip install transformers torch\n",
    "!pip uninstall tensorflow-probability --yes\n",
    "!pip install fastapi==0.104.1 typing_extensions==4.8.0 gradio==3.41.0\n",
    "\"\"\"\n",
    "\n",
    "import os\n",
    "#os.kill(os.getpid(), 9)"
   ]
  },
  {
   "cell_type": "code",
   "execution_count": 16,
   "metadata": {
    "id": "UjDGFHVa7b20"
   },
   "outputs": [
    {
     "data": {
      "text/plain": [
       "'\\n! pip install transformers torch\\n!pip uninstall tensorflow-probability --yes\\n!pip install fastapi==0.104.1 typing_extensions==4.8.0 gradio==3.41.0\\n'"
      ]
     },
     "execution_count": 16,
     "metadata": {},
     "output_type": "execute_result"
    }
   ],
   "source": [
    "\"\"\"\n",
    "! pip install transformers torch\n",
    "!pip uninstall tensorflow-probability --yes\n",
    "!pip install fastapi==0.104.1 typing_extensions==4.8.0 gradio==3.41.0\n",
    "\"\"\""
   ]
  },
  {
   "cell_type": "code",
   "execution_count": 17,
   "metadata": {
    "id": "bhpbQ2F_4SnN"
   },
   "outputs": [],
   "source": [
    "import pandas as pd\n",
    "from transformers import BertTokenizer\n",
    "from sklearn.model_selection import train_test_split"
   ]
  },
  {
   "cell_type": "code",
   "execution_count": 18,
   "metadata": {
    "id": "3XfkvExw4oA0"
   },
   "outputs": [],
   "source": [
    "# Initialize the BERT tokenizer\n",
    "tokenizer = BertTokenizer.from_pretrained('bert-base-uncased')\n",
    "df = pd.read_csv('bbc_text.csv', delimiter = ',')\n",
    "\n",
    "# Tokenize text\n",
    "max_length = 512  # or another value suitable for your text\n",
    "df['input_ids'] = df['text'].apply(lambda x: tokenizer.encode(x, add_special_tokens=True, max_length=max_length, truncation=True))\n",
    "\n",
    "# Pad sequences\n",
    "max_len = max([len(sen) for sen in df['input_ids']])\n",
    "df['input_ids'] = df['input_ids'].apply(lambda x: x + [0] * (max_len - len(x)))\n",
    "\n",
    "# Convert labels to numbers\n",
    "label_map = {label: idx for idx, label in enumerate(df['category'].unique())}\n",
    "df['labels'] = df['category'].map(label_map)\n",
    "\n",
    "# Split data into train and test sets\n",
    "train_df, test_df = train_test_split(df, test_size=0.2, random_state=42)"
   ]
  },
  {
   "cell_type": "code",
   "execution_count": 19,
   "metadata": {
    "id": "pz5aP4hn5FVO"
   },
   "outputs": [],
   "source": [
    "import torch\n",
    "from torch.utils.data import Dataset, DataLoader\n",
    "\n",
    "class TextDataset(Dataset):\n",
    "    def __init__(self, dataframe):\n",
    "        self.labels = dataframe['labels']\n",
    "        self.text = dataframe['input_ids']\n",
    "\n",
    "    def __len__(self):\n",
    "        return len(self.labels)\n",
    "\n",
    "    def __getitem__(self, idx):\n",
    "        label = self.labels.iloc[idx]\n",
    "        text = self.text.iloc[idx]\n",
    "        return torch.tensor(text), torch.tensor(label)\n",
    "\n",
    "# Create dataset\n",
    "train_dataset = TextDataset(train_df)\n",
    "test_dataset = TextDataset(test_df)\n",
    "\n",
    "# Create dataloaders\n",
    "batch_size = 16  # Adjust based on your GPU memory\n",
    "train_loader = DataLoader(train_dataset, batch_size=batch_size, shuffle=True)\n",
    "test_loader = DataLoader(test_dataset, batch_size=batch_size, shuffle=False)\n"
   ]
  },
  {
   "cell_type": "code",
   "execution_count": 20,
   "metadata": {
    "tags": []
   },
   "outputs": [
    {
     "name": "stdout",
     "output_type": "stream",
     "text": [
      "True\n",
      "NVIDIA GeForce RTX 4060 Laptop GPU\n"
     ]
    }
   ],
   "source": [
    "print(torch.cuda.is_available())\n",
    "print(torch.cuda.get_device_name(0))"
   ]
  },
  {
   "cell_type": "code",
   "execution_count": 21,
   "metadata": {
    "id": "-3aY6ruH5OBx"
   },
   "outputs": [
    {
     "name": "stderr",
     "output_type": "stream",
     "text": [
      "Some weights of BertForSequenceClassification were not initialized from the model checkpoint at bert-base-uncased and are newly initialized: ['classifier.bias', 'classifier.weight']\n",
      "You should probably TRAIN this model on a down-stream task to be able to use it for predictions and inference.\n",
      "We strongly recommend passing in an `attention_mask` since your input_ids may be padded. See https://huggingface.co/docs/transformers/troubleshooting#incorrect-output-when-padding-tokens-arent-masked.\n"
     ]
    },
    {
     "name": "stdout",
     "output_type": "stream",
     "text": [
      "Epoch 0 complete.\n",
      "Epoch 1 complete.\n",
      "Epoch 2 complete.\n"
     ]
    }
   ],
   "source": [
    "from transformers import BertForSequenceClassification, AdamW\n",
    "\n",
    "# Load BERT model\n",
    "model = BertForSequenceClassification.from_pretrained('bert-base-uncased', num_labels=len(label_map))\n",
    "\n",
    "# Move model to GPU\n",
    "device = torch.device(\"cuda\" if torch.cuda.is_available() else \"cpu\")\n",
    "model.to(device)\n",
    "\n",
    "# Initialize optimizer\n",
    "optimizer = AdamW(model.parameters(), lr=2e-5)\n",
    "\n",
    "# Training loop\n",
    "epochs = 3  # or more based on your dataset size and model complexity\n",
    "for epoch in range(epochs):\n",
    "    model.train()\n",
    "    for batch in train_loader:\n",
    "        b_input_ids, b_labels = batch\n",
    "        b_input_ids = b_input_ids.to(device)\n",
    "        b_labels = b_labels.to(device)\n",
    "\n",
    "        # Forward pass\n",
    "        outputs = model(b_input_ids, labels=b_labels)\n",
    "\n",
    "        # Backward pass and optimization\n",
    "        loss = outputs.loss\n",
    "        loss.backward()\n",
    "        optimizer.step()\n",
    "        optimizer.zero_grad()\n",
    "\n",
    "    print(f'Epoch {epoch} complete.')\n"
   ]
  },
  {
   "cell_type": "code",
   "execution_count": 22,
   "metadata": {
    "id": "vFsiuAvu5QDG"
   },
   "outputs": [
    {
     "name": "stdout",
     "output_type": "stream",
     "text": [
      "Test Accuracy: 0.9662921348314607\n",
      " Score f1: 0.9661815868559972\n"
     ]
    }
   ],
   "source": [
    "from sklearn.metrics import accuracy_score\n",
    "from sklearn.metrics import f1_score\n",
    "\n",
    "# Evaluation loop\n",
    "model.eval()\n",
    "predictions, true_labels = [], []\n",
    "for batch in test_loader:\n",
    "    b_input_ids, b_labels = batch\n",
    "    b_input_ids = b_input_ids.to(device)\n",
    "    b_labels = b_labels.to(device)\n",
    "\n",
    "    with torch.no_grad():\n",
    "        outputs = model(b_input_ids)\n",
    "\n",
    "    logits = outputs.logits\n",
    "    predictions.extend(torch.argmax(logits, dim=1).tolist())\n",
    "    true_labels.extend(b_labels.tolist())\n",
    "\n",
    "accuracy = accuracy_score(true_labels, predictions)\n",
    "score_f1 = f1_score(true_labels, predictions, average='weighted')\n",
    "\n",
    "print(f'Test Accuracy: {accuracy}')\n",
    "print(f\" Score f1: {score_f1}\")\n"
   ]
  }
 ],
 "metadata": {
  "accelerator": "GPU",
  "colab": {
   "gpuType": "T4",
   "provenance": []
  },
  "kernelspec": {
   "display_name": "Python 3 (ipykernel)",
   "language": "python",
   "name": "python3"
  },
  "language_info": {
   "codemirror_mode": {
    "name": "ipython",
    "version": 3
   },
   "file_extension": ".py",
   "mimetype": "text/x-python",
   "name": "python",
   "nbconvert_exporter": "python",
   "pygments_lexer": "ipython3",
   "version": "3.11.4"
  }
 },
 "nbformat": 4,
 "nbformat_minor": 4
}
